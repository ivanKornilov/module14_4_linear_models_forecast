{
  "nbformat": 4,
  "nbformat_minor": 0,
  "metadata": {
    "colab": {
      "provenance": []
    },
    "kernelspec": {
      "name": "python3",
      "display_name": "Python 3"
    },
    "language_info": {
      "name": "python"
    }
  },
  "cells": [
    {
      "cell_type": "code",
      "source": [],
      "metadata": {
        "id": "Ws6_ApZsmOSN"
      },
      "execution_count": null,
      "outputs": []
    },
    {
      "cell_type": "markdown",
      "source": [
        "Подключим нужные для работы библиотеки"
      ],
      "metadata": {
        "id": "D5NKQMWlmO0c"
      }
    },
    {
      "cell_type": "code",
      "execution_count": 134,
      "metadata": {
        "id": "lRDDJk15FZ0j"
      },
      "outputs": [],
      "source": [
        "import pandas as pd\n",
        "from sklearn.tree import DecisionTreeClassifier, DecisionTreeRegressor\n",
        "from sklearn.ensemble import RandomForestClassifier, RandomForestRegressor\n",
        "from sklearn.model_selection import cross_val_predict\n",
        "from sklearn.metrics import mean_squared_error, roc_auc_score\n",
        "from sklearn.preprocessing import OneHotEncoder\n",
        "from sklearn.preprocessing import StandardScaler\n",
        "from sklearn.linear_model import LinearRegression, LogisticRegression\n",
        "from sklearn.pipeline import Pipeline"
      ]
    },
    {
      "cell_type": "code",
      "source": [],
      "metadata": {
        "id": "qehv_OkOmNxE"
      },
      "execution_count": null,
      "outputs": []
    },
    {
      "cell_type": "markdown",
      "source": [
        "Для задачи прогнозировнаия времени доставки по заказам выбираем следующие столбцы:\n",
        "через запрос к БД:\n",
        "select o.customer_id, c.address, o.order_id, o.order_dt,  d.delivery_dt, o.payment_method, op.product_id, op.amount\n",
        "from orders as o\n",
        "inner join delivery_info as d\n",
        "on o.order_id = d.order_id\n",
        "inner join customers as c\n",
        "on o.customer_id = c.customer_id\n",
        "inner join orders_product as op\n",
        "on o.order_id = op.order_id\n",
        "\n",
        "Полученные поля:\n",
        "customer_id,address,order_id,order_dt,delivery_dt,payment_method,product_id,amount\n",
        "                ID Клиента [customer_id]\n",
        "                Город доставки  [address]\n",
        "                ID заказа [order_id]\n",
        "                Дата заказа [order_dt]\n",
        "                Дата поставки [delivery_dt]\n",
        "                Тип оплаты [payment_method]\n",
        "                ID продукта [product_id]\n",
        "                Количество продукта в заказе [amount]\n",
        "Выбор стобцов обусловлен влиянием, которые значения могут оказать на целевую переменную (время доставки в днях).\n",
        "\n",
        " Целевая переменная - это произвольное положительное число, Тип задачи - Линейная Регрессия.\n",
        "\n",
        " Для оценки качества модели прогнозирования будем использовать Среднеквадратичную ошибку (как наиболее корректную метрику для методов линейной регрессии)\n",
        "\n",
        "\n",
        "Для использования метода прогнозирования, Преобразуенм данные:\n",
        " -  Для каждого заказа получить прогнозируемую переменную — создаенм вычисляемое поле =  время доставки в днях (разница в днях между датой заказа и датой доставки =  days_deliver, затем удаляем данные поля (order_dt) и (delivery_dt)\n",
        " - перекодируем адреса через ohe в числовые поля\n",
        " - метод платежа также преобразуем в число"
      ],
      "metadata": {
        "id": "pD_TLh_lmT81"
      }
    },
    {
      "cell_type": "code",
      "source": [
        "df = pd.read_csv('hw_14_6_sql.csv')\n",
        "df['order_dt'] = pd.to_datetime(df['order_dt'])\n",
        "df['delivery_dt'] = pd.to_datetime(df['delivery_dt'])\n",
        "df['days_deliver'] = (df['delivery_dt'] - df['order_dt']).dt.days\n",
        "df.drop(['delivery_dt', 'order_dt'], axis= 1 , inplace= True )\n",
        "df['payment_method'] = df['payment_method'].apply(lambda x: 1 if x == 'online' else 1)\n",
        "oe_style = OneHotEncoder()\n",
        "oe_results = oe_style.fit_transform(df[[\"address\"]])\n",
        "oe_results.toarray()\n",
        "pd.DataFrame(oe_results.toarray(), columns=oe_style.categories_).head()\n",
        "df = df.join(pd.DataFrame(oe_results.toarray(), columns=oe_style.categories_[0]))\n",
        "df.drop('address', axis= 1 , inplace= True )"
      ],
      "metadata": {
        "id": "e7PSNj9QFecW"
      },
      "execution_count": 118,
      "outputs": []
    },
    {
      "cell_type": "code",
      "source": [],
      "metadata": {
        "id": "WETvwmuxpEPh"
      },
      "execution_count": null,
      "outputs": []
    },
    {
      "cell_type": "markdown",
      "source": [
        "Разбиваем данные на целевые и признаки, для анализа с помощью методов линейной регрессии"
      ],
      "metadata": {
        "id": "0-5V7oT2pE35"
      }
    },
    {
      "cell_type": "code",
      "source": [
        "y = df['days_deliver']\n",
        "X = df.loc[:, df.columns != 'days_deliver']\n",
        "X = X.apply(pd.to_numeric)\n",
        "sc = StandardScaler()\n",
        "X_sc = sc.fit_transform(X)"
      ],
      "metadata": {
        "id": "M_ZyHfIIFuPN"
      },
      "execution_count": 121,
      "outputs": []
    },
    {
      "cell_type": "code",
      "source": [
        "lr = LinearRegression()\n",
        "lr.fit(X_sc,y)\n",
        "y_pred = lr.predict(X_sc)\n",
        "mean_squared_error(y, y_pred, squared=False)"
      ],
      "metadata": {
        "colab": {
          "base_uri": "https://localhost:8080/"
        },
        "id": "enKfSj-lF5M8",
        "outputId": "53ccad84-5c60-4fb6-bf98-4c2473ef4346"
      },
      "execution_count": 162,
      "outputs": [
        {
          "output_type": "execute_result",
          "data": {
            "text/plain": [
              "16.139001783690986"
            ]
          },
          "metadata": {},
          "execution_count": 162
        }
      ]
    },
    {
      "cell_type": "markdown",
      "source": [
        "Оцениваем эффективность работы модели - через среднеквадратичную ошибку.\n",
        "В первом расчете метод линейной регрессии дает неплохой результат"
      ],
      "metadata": {
        "id": "CtVeokelpVAh"
      }
    },
    {
      "cell_type": "code",
      "source": [
        "pl = Pipeline([('sc', sc), ('model', lr)])\n",
        "y_pred = cross_val_predict(pl, X_sc, y)\n",
        "mean_squared_error(y_pred, y, squared=False)"
      ],
      "metadata": {
        "colab": {
          "base_uri": "https://localhost:8080/"
        },
        "id": "oAJmtBGOiqDQ",
        "outputId": "b02c3b65-5de8-4fca-c4ad-ff491102ef10"
      },
      "execution_count": 163,
      "outputs": [
        {
          "output_type": "execute_result",
          "data": {
            "text/plain": [
              "64256102865749.57"
            ]
          },
          "metadata": {},
          "execution_count": 163
        }
      ]
    },
    {
      "cell_type": "markdown",
      "source": [
        "Но после проверки с помощью Кросс-валидации оказывается, что метод переобучился и не дает нужного стабильного результата"
      ],
      "metadata": {
        "id": "Z1Lb1uGzpj5S"
      }
    },
    {
      "cell_type": "code",
      "source": [
        "dt_r = DecisionTreeRegressor(max_depth=5)\n",
        "dt_r.fit(X_sc,y)\n",
        "y_pred = dt_r.predict(X_sc)\n",
        "mean_squared_error(y_pred, y, squared=False)"
      ],
      "metadata": {
        "colab": {
          "base_uri": "https://localhost:8080/"
        },
        "id": "Q5TCyu6DjeUB",
        "outputId": "26704d27-037e-4f67-bed0-69053e0ad1b3"
      },
      "execution_count": 164,
      "outputs": [
        {
          "output_type": "execute_result",
          "data": {
            "text/plain": [
              "17.206691077362382"
            ]
          },
          "metadata": {},
          "execution_count": 164
        }
      ]
    },
    {
      "cell_type": "code",
      "source": [
        "y_pred = cross_val_predict(dt_r, X_sc, y)\n",
        "mean_squared_error(y_pred, y, squared=False)"
      ],
      "metadata": {
        "colab": {
          "base_uri": "https://localhost:8080/"
        },
        "id": "ahIig1-AkMy7",
        "outputId": "1753e680-77a5-4fce-ce36-b83fe29d13e7"
      },
      "execution_count": 165,
      "outputs": [
        {
          "output_type": "execute_result",
          "data": {
            "text/plain": [
              "17.317983985073607"
            ]
          },
          "metadata": {},
          "execution_count": 165
        }
      ]
    },
    {
      "cell_type": "code",
      "source": [],
      "metadata": {
        "id": "9isXjH5wpyfC"
      },
      "execution_count": null,
      "outputs": []
    },
    {
      "cell_type": "markdown",
      "source": [
        "Модель дерева решения дает результат немного хуже при ограничении глубины на кросс-валмдлации"
      ],
      "metadata": {
        "id": "VU1KgltVpy4i"
      }
    },
    {
      "cell_type": "code",
      "source": [
        "rf_r = RandomForestRegressor()\n",
        "rf_r.fit(X_sc,y)\n",
        "y_pred = rf_r.predict(X_sc)\n",
        "mean_squared_error(y_pred, y, squared=False)"
      ],
      "metadata": {
        "colab": {
          "base_uri": "https://localhost:8080/"
        },
        "id": "QfedwdRGka_B",
        "outputId": "be2d9374-3809-4338-8ca5-e943521c81da"
      },
      "execution_count": 159,
      "outputs": [
        {
          "output_type": "execute_result",
          "data": {
            "text/plain": [
              "11.142484389385027"
            ]
          },
          "metadata": {},
          "execution_count": 159
        }
      ]
    },
    {
      "cell_type": "code",
      "source": [
        "y_pred = cross_val_predict(rf_r, X_sc, y)\n",
        "mean_squared_error(y_pred, y, squared=False)"
      ],
      "metadata": {
        "colab": {
          "base_uri": "https://localhost:8080/"
        },
        "id": "ibiC0bTHlJd8",
        "outputId": "1dc6866e-a98c-4011-9a88-ba61dcf2232b"
      },
      "execution_count": 160,
      "outputs": [
        {
          "output_type": "execute_result",
          "data": {
            "text/plain": [
              "14.864124644644077"
            ]
          },
          "metadata": {},
          "execution_count": 160
        }
      ]
    },
    {
      "cell_type": "markdown",
      "source": [
        "Метод случаного леса дает наилучший результат на кросс валидации."
      ],
      "metadata": {
        "id": "5noBHh8lqCea"
      }
    },
    {
      "cell_type": "markdown",
      "source": [
        "## Вывод:\n",
        "Алгоритм случайного лесадает наилучший результат (метрика:\n",
        "Среднеквадратичная ошибка)"
      ],
      "metadata": {
        "id": "xzPf3QSIqOeM"
      }
    },
    {
      "cell_type": "code",
      "source": [],
      "metadata": {
        "id": "1p0i1rLRqvea"
      },
      "execution_count": null,
      "outputs": []
    }
  ]
}